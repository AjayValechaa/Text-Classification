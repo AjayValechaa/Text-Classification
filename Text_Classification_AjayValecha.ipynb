{
  "nbformat": 4,
  "nbformat_minor": 0,
  "metadata": {
    "colab": {
      "name": "Data_challenge_AjayValecha.ipynb",
      "provenance": []
    },
    "kernelspec": {
      "name": "python3",
      "display_name": "Python 3"
    },
    "language_info": {
      "name": "python"
    }
  },
  "cells": [
    {
      "cell_type": "code",
      "metadata": {
        "colab": {
          "base_uri": "https://localhost:8080/"
        },
        "id": "sBYbh2py4hom",
        "outputId": "85bf1fb3-f421-4713-b402-cdcf06e0e2a2"
      },
      "source": [
        "import pandas as pd\n",
        "import numpy as np\n",
        "import nltk\n",
        "nltk.download('stopwords')\n",
        "nltk.download('wordnet')\n",
        "from sklearn.feature_extraction.text import CountVectorizer,TfidfVectorizer\n",
        "from sklearn import preprocessing, decomposition, model_selection, metrics, pipeline\n",
        "from sklearn.model_selection import train_test_split\n",
        "from nltk import word_tokenize\n",
        "from nltk.corpus import stopwords\n",
        "from sklearn.ensemble import RandomForestClassifier\n",
        "from sklearn.linear_model import LogisticRegression\n",
        "import matplotlib.pyplot as plt\n",
        "from sklearn.preprocessing import StandardScaler\n",
        "import seaborn as sns\n",
        "from sklearn.decomposition import PCA\n",
        "from nltk.tokenize import TweetTokenizer\n",
        "from sklearn.impute import SimpleImputer\n",
        "import re\n",
        "stop_words = stopwords.words('english')"
      ],
      "execution_count": null,
      "outputs": [
        {
          "output_type": "stream",
          "text": [
            "[nltk_data] Downloading package stopwords to /root/nltk_data...\n",
            "[nltk_data]   Package stopwords is already up-to-date!\n",
            "[nltk_data] Downloading package wordnet to /root/nltk_data...\n",
            "[nltk_data]   Package wordnet is already up-to-date!\n"
          ],
          "name": "stdout"
        }
      ]
    },
    {
      "cell_type": "code",
      "metadata": {
        "id": "AlxhC7x54qjY"
      },
      "source": [
        "import spacy\n",
        "nlp = spacy.load(\"en_core_web_sm\")"
      ],
      "execution_count": null,
      "outputs": []
    },
    {
      "cell_type": "code",
      "metadata": {
        "id": "1NQ7ztGu4un_"
      },
      "source": [
        "from keras.preprocessing.text import Tokenizer\n",
        "from keras.preprocessing.sequence import pad_sequences\n",
        "from keras.utils import to_categorical"
      ],
      "execution_count": null,
      "outputs": []
    },
    {
      "cell_type": "code",
      "metadata": {
        "colab": {
          "base_uri": "https://localhost:8080/"
        },
        "id": "YcFG0MJM4zUE",
        "outputId": "cb73e48f-6a4c-4cdf-e324-80b86b1219d8"
      },
      "source": [
        "from google.colab import drive\n",
        "drive.mount('/content/drive')"
      ],
      "execution_count": null,
      "outputs": [
        {
          "output_type": "stream",
          "text": [
            "Mounted at /content/drive\n"
          ],
          "name": "stdout"
        }
      ]
    },
    {
      "cell_type": "code",
      "metadata": {
        "colab": {
          "base_uri": "https://localhost:8080/"
        },
        "id": "BxygDqua45ry",
        "outputId": "e1ecf16f-4d7b-46fc-8c23-dd3d4c423a55"
      },
      "source": [
        "%cd \"/content/drive/MyDrive/Data_challenge\"\n"
      ],
      "execution_count": null,
      "outputs": [
        {
          "output_type": "stream",
          "text": [
            "/content/drive/MyDrive/Data_challenge\n"
          ],
          "name": "stdout"
        }
      ]
    },
    {
      "cell_type": "code",
      "metadata": {
        "id": "Y2Yq-cZY49MB"
      },
      "source": [
        "#call in the data\n",
        "train_data = pd.read_csv('train.csv')\n",
        "test_data = pd.read_csv('test.csv')"
      ],
      "execution_count": null,
      "outputs": []
    },
    {
      "cell_type": "code",
      "metadata": {
        "colab": {
          "base_uri": "https://localhost:8080/"
        },
        "id": "H3K2CtX59RfE",
        "outputId": "8a7142d1-7724-4258-d514-d840197e02d3"
      },
      "source": [
        "train_data.shape"
      ],
      "execution_count": null,
      "outputs": [
        {
          "output_type": "execute_result",
          "data": {
            "text/plain": [
              "(15000, 10)"
            ]
          },
          "metadata": {
            "tags": []
          },
          "execution_count": 10
        }
      ]
    },
    {
      "cell_type": "code",
      "metadata": {
        "colab": {
          "base_uri": "https://localhost:8080/"
        },
        "id": "oTeQUGhF9Wn6",
        "outputId": "45c46bc6-9ab5-4fb9-c561-bc9ca49599d6"
      },
      "source": [
        "test_data.shape"
      ],
      "execution_count": null,
      "outputs": [
        {
          "output_type": "execute_result",
          "data": {
            "text/plain": [
              "(8000, 9)"
            ]
          },
          "metadata": {
            "tags": []
          },
          "execution_count": 11
        }
      ]
    },
    {
      "cell_type": "code",
      "metadata": {
        "colab": {
          "base_uri": "https://localhost:8080/",
          "height": 195
        },
        "id": "Ihq_PCNd9j0v",
        "outputId": "2b6c1c5b-7ece-49ab-e17d-7b4b5c99adc0"
      },
      "source": [
        "train_data.head()"
      ],
      "execution_count": null,
      "outputs": [
        {
          "output_type": "execute_result",
          "data": {
            "text/html": [
              "<div>\n",
              "<style scoped>\n",
              "    .dataframe tbody tr th:only-of-type {\n",
              "        vertical-align: middle;\n",
              "    }\n",
              "\n",
              "    .dataframe tbody tr th {\n",
              "        vertical-align: top;\n",
              "    }\n",
              "\n",
              "    .dataframe thead th {\n",
              "        text-align: right;\n",
              "    }\n",
              "</style>\n",
              "<table border=\"1\" class=\"dataframe\">\n",
              "  <thead>\n",
              "    <tr style=\"text-align: right;\">\n",
              "      <th></th>\n",
              "      <th>ID</th>\n",
              "      <th>comment</th>\n",
              "      <th>date</th>\n",
              "      <th>down</th>\n",
              "      <th>parent_comment</th>\n",
              "      <th>score</th>\n",
              "      <th>top</th>\n",
              "      <th>topic</th>\n",
              "      <th>user</th>\n",
              "      <th>label</th>\n",
              "    </tr>\n",
              "  </thead>\n",
              "  <tbody>\n",
              "    <tr>\n",
              "      <th>0</th>\n",
              "      <td>uid_590555</td>\n",
              "      <td>Well, let's be honest here, they don't actuall...</td>\n",
              "      <td>2015-04</td>\n",
              "      <td>0</td>\n",
              "      <td>They should shut the fuck up and let the commu...</td>\n",
              "      <td>2</td>\n",
              "      <td>2</td>\n",
              "      <td>starcitizen</td>\n",
              "      <td>Combat_Wombatz</td>\n",
              "      <td>0</td>\n",
              "    </tr>\n",
              "    <tr>\n",
              "      <th>1</th>\n",
              "      <td>uid_671762</td>\n",
              "      <td>Well, I didn't need evidence to believe in com...</td>\n",
              "      <td>2016-12</td>\n",
              "      <td>-1</td>\n",
              "      <td>You need evidence to kill people? I thought we...</td>\n",
              "      <td>6</td>\n",
              "      <td>-1</td>\n",
              "      <td>EnoughCommieSpam</td>\n",
              "      <td>starkadd</td>\n",
              "      <td>1</td>\n",
              "    </tr>\n",
              "    <tr>\n",
              "      <th>2</th>\n",
              "      <td>uid_519689</td>\n",
              "      <td>Who does an \"official promo\" in 360p?</td>\n",
              "      <td>2013-11</td>\n",
              "      <td>0</td>\n",
              "      <td>2014 BMW S1000R: Official Promo</td>\n",
              "      <td>3</td>\n",
              "      <td>3</td>\n",
              "      <td>motorcycles</td>\n",
              "      <td>phybere</td>\n",
              "      <td>0</td>\n",
              "    </tr>\n",
              "    <tr>\n",
              "      <th>3</th>\n",
              "      <td>uid_788362</td>\n",
              "      <td>Grotto koth was the best</td>\n",
              "      <td>2015-09</td>\n",
              "      <td>0</td>\n",
              "      <td>Not really that memorable lol if you want memo...</td>\n",
              "      <td>2</td>\n",
              "      <td>2</td>\n",
              "      <td>hcfactions</td>\n",
              "      <td>m0xyMC</td>\n",
              "      <td>1</td>\n",
              "    </tr>\n",
              "    <tr>\n",
              "      <th>4</th>\n",
              "      <td>uid_299252</td>\n",
              "      <td>Neal's back baby</td>\n",
              "      <td>2015-11</td>\n",
              "      <td>0</td>\n",
              "      <td>James Neal hit on Zach Parise</td>\n",
              "      <td>-5</td>\n",
              "      <td>-5</td>\n",
              "      <td>hockey</td>\n",
              "      <td>Somuch101</td>\n",
              "      <td>1</td>\n",
              "    </tr>\n",
              "  </tbody>\n",
              "</table>\n",
              "</div>"
            ],
            "text/plain": [
              "           ID  ... label\n",
              "0  uid_590555  ...     0\n",
              "1  uid_671762  ...     1\n",
              "2  uid_519689  ...     0\n",
              "3  uid_788362  ...     1\n",
              "4  uid_299252  ...     1\n",
              "\n",
              "[5 rows x 10 columns]"
            ]
          },
          "metadata": {
            "tags": []
          },
          "execution_count": 12
        }
      ]
    },
    {
      "cell_type": "code",
      "metadata": {
        "colab": {
          "base_uri": "https://localhost:8080/"
        },
        "id": "1ABNNgjBHbE2",
        "outputId": "b81461a9-1beb-4e30-973a-2c6c4144c7c5"
      },
      "source": [
        "train_data['parent_comment'][700] in train_data['comment'] #random check if parent comment is in comment"
      ],
      "execution_count": null,
      "outputs": [
        {
          "output_type": "execute_result",
          "data": {
            "text/plain": [
              "False"
            ]
          },
          "metadata": {
            "tags": []
          },
          "execution_count": 45
        }
      ]
    },
    {
      "cell_type": "code",
      "metadata": {
        "colab": {
          "base_uri": "https://localhost:8080/",
          "height": 195
        },
        "id": "JelmqwySBLxW",
        "outputId": "2257aa99-834a-454f-fee6-abf071a441d8"
      },
      "source": [
        "train_data.sample(5)"
      ],
      "execution_count": null,
      "outputs": [
        {
          "output_type": "execute_result",
          "data": {
            "text/html": [
              "<div>\n",
              "<style scoped>\n",
              "    .dataframe tbody tr th:only-of-type {\n",
              "        vertical-align: middle;\n",
              "    }\n",
              "\n",
              "    .dataframe tbody tr th {\n",
              "        vertical-align: top;\n",
              "    }\n",
              "\n",
              "    .dataframe thead th {\n",
              "        text-align: right;\n",
              "    }\n",
              "</style>\n",
              "<table border=\"1\" class=\"dataframe\">\n",
              "  <thead>\n",
              "    <tr style=\"text-align: right;\">\n",
              "      <th></th>\n",
              "      <th>ID</th>\n",
              "      <th>comment</th>\n",
              "      <th>date</th>\n",
              "      <th>down</th>\n",
              "      <th>parent_comment</th>\n",
              "      <th>score</th>\n",
              "      <th>top</th>\n",
              "      <th>topic</th>\n",
              "      <th>user</th>\n",
              "      <th>label</th>\n",
              "    </tr>\n",
              "  </thead>\n",
              "  <tbody>\n",
              "    <tr>\n",
              "      <th>2758</th>\n",
              "      <td>uid_612216</td>\n",
              "      <td>You're going to be ripped!</td>\n",
              "      <td>2015-07</td>\n",
              "      <td>0</td>\n",
              "      <td>I'll take the one way ticket to Diabetes please</td>\n",
              "      <td>1</td>\n",
              "      <td>1</td>\n",
              "      <td>AdviceAnimals</td>\n",
              "      <td>crybllrd</td>\n",
              "      <td>1</td>\n",
              "    </tr>\n",
              "    <tr>\n",
              "      <th>8014</th>\n",
              "      <td>uid_934173</td>\n",
              "      <td>That's stretching it a bit... Depends on what ...</td>\n",
              "      <td>2015-09</td>\n",
              "      <td>0</td>\n",
              "      <td>So is $20 your low?</td>\n",
              "      <td>2</td>\n",
              "      <td>2</td>\n",
              "      <td>cringepics</td>\n",
              "      <td>AssholeReportingSir</td>\n",
              "      <td>0</td>\n",
              "    </tr>\n",
              "    <tr>\n",
              "      <th>6455</th>\n",
              "      <td>uid_756707</td>\n",
              "      <td>Well excuse me, how dare you bring logic into ...</td>\n",
              "      <td>2016-08</td>\n",
              "      <td>0</td>\n",
              "      <td>I agree with nothing this asswipe is saying, b...</td>\n",
              "      <td>20</td>\n",
              "      <td>20</td>\n",
              "      <td>niceguys</td>\n",
              "      <td>yizhimeil</td>\n",
              "      <td>1</td>\n",
              "    </tr>\n",
              "    <tr>\n",
              "      <th>7710</th>\n",
              "      <td>uid_251523</td>\n",
              "      <td>Well they are only holding him on the copyrigh...</td>\n",
              "      <td>2015-06</td>\n",
              "      <td>0</td>\n",
              "      <td>Soooo... Dude's been locked up in Supermax und...</td>\n",
              "      <td>1</td>\n",
              "      <td>1</td>\n",
              "      <td>todayilearned</td>\n",
              "      <td>OldirtySapper</td>\n",
              "      <td>1</td>\n",
              "    </tr>\n",
              "    <tr>\n",
              "      <th>10064</th>\n",
              "      <td>uid_297883</td>\n",
              "      <td>That sounds reasonable, why cant these darn yo...</td>\n",
              "      <td>2015-03</td>\n",
              "      <td>0</td>\n",
              "      <td>0 is the legal limit when youre driving on a G...</td>\n",
              "      <td>1</td>\n",
              "      <td>1</td>\n",
              "      <td>Calgary</td>\n",
              "      <td>rocket_robin_hood</td>\n",
              "      <td>1</td>\n",
              "    </tr>\n",
              "  </tbody>\n",
              "</table>\n",
              "</div>"
            ],
            "text/plain": [
              "               ID  ... label\n",
              "2758   uid_612216  ...     1\n",
              "8014   uid_934173  ...     0\n",
              "6455   uid_756707  ...     1\n",
              "7710   uid_251523  ...     1\n",
              "10064  uid_297883  ...     1\n",
              "\n",
              "[5 rows x 10 columns]"
            ]
          },
          "metadata": {
            "tags": []
          },
          "execution_count": 32
        }
      ]
    },
    {
      "cell_type": "code",
      "metadata": {
        "colab": {
          "base_uri": "https://localhost:8080/",
          "height": 195
        },
        "id": "imIsY1yH9r1y",
        "outputId": "e918d8e9-0e89-480a-cf9a-f77f88bf42f7"
      },
      "source": [
        "test_data.head()"
      ],
      "execution_count": null,
      "outputs": [
        {
          "output_type": "execute_result",
          "data": {
            "text/html": [
              "<div>\n",
              "<style scoped>\n",
              "    .dataframe tbody tr th:only-of-type {\n",
              "        vertical-align: middle;\n",
              "    }\n",
              "\n",
              "    .dataframe tbody tr th {\n",
              "        vertical-align: top;\n",
              "    }\n",
              "\n",
              "    .dataframe thead th {\n",
              "        text-align: right;\n",
              "    }\n",
              "</style>\n",
              "<table border=\"1\" class=\"dataframe\">\n",
              "  <thead>\n",
              "    <tr style=\"text-align: right;\">\n",
              "      <th></th>\n",
              "      <th>ID</th>\n",
              "      <th>comment</th>\n",
              "      <th>date</th>\n",
              "      <th>down</th>\n",
              "      <th>parent_comment</th>\n",
              "      <th>score</th>\n",
              "      <th>top</th>\n",
              "      <th>topic</th>\n",
              "      <th>user</th>\n",
              "    </tr>\n",
              "  </thead>\n",
              "  <tbody>\n",
              "    <tr>\n",
              "      <th>0</th>\n",
              "      <td>uid_764784</td>\n",
              "      <td>Meanwhile if I pick my boxer up to move him to...</td>\n",
              "      <td>2016-01</td>\n",
              "      <td>0</td>\n",
              "      <td>Part of the Family Fun</td>\n",
              "      <td>2</td>\n",
              "      <td>2</td>\n",
              "      <td>gifs</td>\n",
              "      <td>Cameltoe-Swampdonkey</td>\n",
              "    </tr>\n",
              "    <tr>\n",
              "      <th>1</th>\n",
              "      <td>uid_67552</td>\n",
              "      <td>Thats what you get for using an unfair advanta...</td>\n",
              "      <td>2015-03</td>\n",
              "      <td>0</td>\n",
              "      <td>received a warning for hacking while overclock...</td>\n",
              "      <td>1</td>\n",
              "      <td>1</td>\n",
              "      <td>h1z1</td>\n",
              "      <td>Gothika_47</td>\n",
              "    </tr>\n",
              "    <tr>\n",
              "      <th>2</th>\n",
              "      <td>uid_240490</td>\n",
              "      <td>only to be later faced with thousands of dolla...</td>\n",
              "      <td>2010-09</td>\n",
              "      <td>0</td>\n",
              "      <td>Running shoes and race entries. I started runn...</td>\n",
              "      <td>1</td>\n",
              "      <td>1</td>\n",
              "      <td>Frugal</td>\n",
              "      <td>tells</td>\n",
              "    </tr>\n",
              "    <tr>\n",
              "      <th>3</th>\n",
              "      <td>uid_56568</td>\n",
              "      <td>What a thoughtful rebuttal to a well articulat...</td>\n",
              "      <td>2015-12</td>\n",
              "      <td>0</td>\n",
              "      <td>Actually, you should get over your self. There...</td>\n",
              "      <td>-1</td>\n",
              "      <td>-1</td>\n",
              "      <td>CFB</td>\n",
              "      <td>YourToothbrush</td>\n",
              "    </tr>\n",
              "    <tr>\n",
              "      <th>4</th>\n",
              "      <td>uid_875860</td>\n",
              "      <td>Yes, major life experiences that demand a grea...</td>\n",
              "      <td>2014-04</td>\n",
              "      <td>0</td>\n",
              "      <td>As a bonus, it was with his ex, months after t...</td>\n",
              "      <td>-5</td>\n",
              "      <td>-5</td>\n",
              "      <td>AdviceAnimals</td>\n",
              "      <td>drunken_trophy_wife</td>\n",
              "    </tr>\n",
              "  </tbody>\n",
              "</table>\n",
              "</div>"
            ],
            "text/plain": [
              "           ID  ...                  user\n",
              "0  uid_764784  ...  Cameltoe-Swampdonkey\n",
              "1   uid_67552  ...            Gothika_47\n",
              "2  uid_240490  ...                 tells\n",
              "3   uid_56568  ...        YourToothbrush\n",
              "4  uid_875860  ...   drunken_trophy_wife\n",
              "\n",
              "[5 rows x 9 columns]"
            ]
          },
          "metadata": {
            "tags": []
          },
          "execution_count": 13
        }
      ]
    },
    {
      "cell_type": "markdown",
      "metadata": {
        "id": "HdYuG54LZSiH"
      },
      "source": [
        "Basic Exploratory Data Analysis\n"
      ]
    },
    {
      "cell_type": "code",
      "metadata": {
        "colab": {
          "base_uri": "https://localhost:8080/"
        },
        "id": "G-JTeXSF-DEA",
        "outputId": "c88f1a5e-b2ae-479b-b18b-dbabbb49ca58"
      },
      "source": [
        "#info of train data\n",
        "train_data.info()"
      ],
      "execution_count": null,
      "outputs": [
        {
          "output_type": "stream",
          "text": [
            "<class 'pandas.core.frame.DataFrame'>\n",
            "RangeIndex: 15000 entries, 0 to 14999\n",
            "Data columns (total 10 columns):\n",
            " #   Column          Non-Null Count  Dtype \n",
            "---  ------          --------------  ----- \n",
            " 0   ID              15000 non-null  object\n",
            " 1   comment         15000 non-null  object\n",
            " 2   date            15000 non-null  object\n",
            " 3   down            15000 non-null  int64 \n",
            " 4   parent_comment  15000 non-null  object\n",
            " 5   score           15000 non-null  int64 \n",
            " 6   top             15000 non-null  int64 \n",
            " 7   topic           15000 non-null  object\n",
            " 8   user            15000 non-null  object\n",
            " 9   label           15000 non-null  int64 \n",
            "dtypes: int64(4), object(6)\n",
            "memory usage: 1.1+ MB\n"
          ],
          "name": "stdout"
        }
      ]
    },
    {
      "cell_type": "code",
      "metadata": {
        "colab": {
          "base_uri": "https://localhost:8080/"
        },
        "id": "JyJN89gs-1RN",
        "outputId": "076a818e-61a1-46d3-a6c2-3f1092631c3f"
      },
      "source": [
        "#info of test data\n",
        "test_data.info()"
      ],
      "execution_count": null,
      "outputs": [
        {
          "output_type": "stream",
          "text": [
            "<class 'pandas.core.frame.DataFrame'>\n",
            "RangeIndex: 8000 entries, 0 to 7999\n",
            "Data columns (total 9 columns):\n",
            " #   Column          Non-Null Count  Dtype \n",
            "---  ------          --------------  ----- \n",
            " 0   ID              8000 non-null   object\n",
            " 1   comment         8000 non-null   object\n",
            " 2   date            8000 non-null   object\n",
            " 3   down            8000 non-null   int64 \n",
            " 4   parent_comment  8000 non-null   object\n",
            " 5   score           8000 non-null   int64 \n",
            " 6   top             8000 non-null   int64 \n",
            " 7   topic           8000 non-null   object\n",
            " 8   user            8000 non-null   object\n",
            "dtypes: int64(3), object(6)\n",
            "memory usage: 562.6+ KB\n"
          ],
          "name": "stdout"
        }
      ]
    },
    {
      "cell_type": "code",
      "metadata": {
        "colab": {
          "base_uri": "https://localhost:8080/"
        },
        "id": "DJ3d4r22-Meh",
        "outputId": "69c183a7-5242-450b-a828-1b03bc74633e"
      },
      "source": [
        "#the output class is balanced\n",
        "['label'].value_counts()"
      ],
      "execution_count": null,
      "outputs": [
        {
          "output_type": "execute_result",
          "data": {
            "text/plain": [
              "1    7527\n",
              "0    7473\n",
              "Name: label, dtype: int64"
            ]
          },
          "metadata": {
            "tags": []
          },
          "execution_count": 16
        }
      ]
    },
    {
      "cell_type": "code",
      "metadata": {
        "colab": {
          "base_uri": "https://localhost:8080/",
          "height": 353
        },
        "id": "Q6qiGjRD-Qog",
        "outputId": "f241df06-a409-4ca1-ec79-039c159b70c3"
      },
      "source": [
        "#the output class is balanced: visualization\n",
        "\n",
        "import matplotlib.pyplot as plt\n",
        "import seaborn as sns\n",
        "fig, ax = plt.subplots()\n",
        "g = sns.countplot(train_data.label, palette='viridis')  #make changes here\n",
        "g.set_xticklabels(['0','1'])\n",
        "g.set_yticklabels([])\n",
        "\n",
        "# function to show values on bars\n",
        "def show_values_on_bars(axs):\n",
        "    def _show_on_single_plot(ax):        \n",
        "        for p in ax.patches:\n",
        "            _x = p.get_x() + p.get_width() / 2\n",
        "            _y = p.get_y() + p.get_height()\n",
        "            value = '{:.0f}'.format(p.get_height())\n",
        "            ax.text(_x, _y, value, ha=\"center\") \n",
        "\n",
        "    if isinstance(axs, np.ndarray):\n",
        "        for idx, ax in np.ndenumerate(axs):\n",
        "            _show_on_single_plot(ax)\n",
        "    else:\n",
        "        _show_on_single_plot(axs)\n",
        "show_values_on_bars(ax)\n",
        "\n",
        "sns.despine(left=True, bottom=True)\n",
        "plt.xlabel('')\n",
        "plt.ylabel('')\n",
        "plt.title('Distribution of labels', fontsize=30) #make changes here for title\n",
        "plt.tick_params(axis='x', which='major', labelsize=15)\n",
        "fig.savefig('classes.png')\n",
        "plt.show()"
      ],
      "execution_count": null,
      "outputs": [
        {
          "output_type": "stream",
          "text": [
            "/usr/local/lib/python3.7/dist-packages/seaborn/_decorators.py:43: FutureWarning: Pass the following variable as a keyword arg: x. From version 0.12, the only valid positional argument will be `data`, and passing other arguments without an explicit keyword will result in an error or misinterpretation.\n",
            "  FutureWarning\n"
          ],
          "name": "stderr"
        },
        {
          "output_type": "display_data",
          "data": {
            "image/png": "[encoded data removed]",
            "text/plain": [
              "<Figure size 432x288 with 1 Axes>"
            ]
          },
          "metadata": {
            "tags": [],
            "needs_background": "light"
          }
        }
      ]
    },
    {
      "cell_type": "code",
      "metadata": {
        "id": "BlRtuWpX-h-5"
      },
      "source": [
        "#check unique types with a columns of the entire dataset\n",
        "def unique_types(df):\n",
        "  cols = {}\n",
        "  for i in df.columns:\n",
        "    cols[i]=set(df[i].map(type))\n",
        "  return cols"
      ],
      "execution_count": null,
      "outputs": []
    },
    {
      "cell_type": "code",
      "metadata": {
        "colab": {
          "base_uri": "https://localhost:8080/"
        },
        "id": "cXUtFcG3-ngn",
        "outputId": "62713c43-7d6f-4827-e401-9dbd9fb39195"
      },
      "source": [
        "unique_types(train_data)"
      ],
      "execution_count": null,
      "outputs": [
        {
          "output_type": "execute_result",
          "data": {
            "text/plain": [
              "{'ID': {str},\n",
              " 'comment': {str},\n",
              " 'date': {str},\n",
              " 'down': {int},\n",
              " 'label': {int},\n",
              " 'parent_comment': {str},\n",
              " 'score': {int},\n",
              " 'top': {int},\n",
              " 'topic': {str},\n",
              " 'user': {str}}"
            ]
          },
          "metadata": {
            "tags": []
          },
          "execution_count": 21
        }
      ]
    },
    {
      "cell_type": "code",
      "metadata": {
        "colab": {
          "base_uri": "https://localhost:8080/"
        },
        "id": "ed8R3C9_-ydQ",
        "outputId": "1f70bbe5-a6dc-404b-e324-80f6ed6ccc24"
      },
      "source": [
        "unique_types(test_data)"
      ],
      "execution_count": null,
      "outputs": [
        {
          "output_type": "execute_result",
          "data": {
            "text/plain": [
              "{'ID': {str},\n",
              " 'comment': {str},\n",
              " 'date': {str},\n",
              " 'down': {int},\n",
              " 'parent_comment': {str},\n",
              " 'score': {int},\n",
              " 'top': {int},\n",
              " 'topic': {str},\n",
              " 'user': {str}}"
            ]
          },
          "metadata": {
            "tags": []
          },
          "execution_count": 23
        }
      ]
    },
    {
      "cell_type": "code",
      "metadata": {
        "id": "qPSd1S4k_V7A"
      },
      "source": [
        "#check missing values of entire dataset\n",
        "def missing_value_of_data(data):\n",
        "    total=data.isnull().sum().sort_values(ascending=False)\n",
        "    percentage=round(total/data.shape[0]*100,2)\n",
        "    return pd.concat([total,percentage],axis=1,keys=['Total','Percentage'])"
      ],
      "execution_count": null,
      "outputs": []
    },
    {
      "cell_type": "code",
      "metadata": {
        "colab": {
          "base_uri": "https://localhost:8080/",
          "height": 343
        },
        "id": "0m-TKN1R_YnX",
        "outputId": "372a0dcd-ab78-415e-f01c-27ad2b6abf7c"
      },
      "source": [
        "missing_value_of_data(train_data) #no missing data in training set"
      ],
      "execution_count": null,
      "outputs": [
        {
          "output_type": "execute_result",
          "data": {
            "text/html": [
              "<div>\n",
              "<style scoped>\n",
              "    .dataframe tbody tr th:only-of-type {\n",
              "        vertical-align: middle;\n",
              "    }\n",
              "\n",
              "    .dataframe tbody tr th {\n",
              "        vertical-align: top;\n",
              "    }\n",
              "\n",
              "    .dataframe thead th {\n",
              "        text-align: right;\n",
              "    }\n",
              "</style>\n",
              "<table border=\"1\" class=\"dataframe\">\n",
              "  <thead>\n",
              "    <tr style=\"text-align: right;\">\n",
              "      <th></th>\n",
              "      <th>Total</th>\n",
              "      <th>Percentage</th>\n",
              "    </tr>\n",
              "  </thead>\n",
              "  <tbody>\n",
              "    <tr>\n",
              "      <th>label</th>\n",
              "      <td>0</td>\n",
              "      <td>0.0</td>\n",
              "    </tr>\n",
              "    <tr>\n",
              "      <th>user</th>\n",
              "      <td>0</td>\n",
              "      <td>0.0</td>\n",
              "    </tr>\n",
              "    <tr>\n",
              "      <th>topic</th>\n",
              "      <td>0</td>\n",
              "      <td>0.0</td>\n",
              "    </tr>\n",
              "    <tr>\n",
              "      <th>top</th>\n",
              "      <td>0</td>\n",
              "      <td>0.0</td>\n",
              "    </tr>\n",
              "    <tr>\n",
              "      <th>score</th>\n",
              "      <td>0</td>\n",
              "      <td>0.0</td>\n",
              "    </tr>\n",
              "    <tr>\n",
              "      <th>parent_comment</th>\n",
              "      <td>0</td>\n",
              "      <td>0.0</td>\n",
              "    </tr>\n",
              "    <tr>\n",
              "      <th>down</th>\n",
              "      <td>0</td>\n",
              "      <td>0.0</td>\n",
              "    </tr>\n",
              "    <tr>\n",
              "      <th>date</th>\n",
              "      <td>0</td>\n",
              "      <td>0.0</td>\n",
              "    </tr>\n",
              "    <tr>\n",
              "      <th>comment</th>\n",
              "      <td>0</td>\n",
              "      <td>0.0</td>\n",
              "    </tr>\n",
              "    <tr>\n",
              "      <th>ID</th>\n",
              "      <td>0</td>\n",
              "      <td>0.0</td>\n",
              "    </tr>\n",
              "  </tbody>\n",
              "</table>\n",
              "</div>"
            ],
            "text/plain": [
              "                Total  Percentage\n",
              "label               0         0.0\n",
              "user                0         0.0\n",
              "topic               0         0.0\n",
              "top                 0         0.0\n",
              "score               0         0.0\n",
              "parent_comment      0         0.0\n",
              "down                0         0.0\n",
              "date                0         0.0\n",
              "comment             0         0.0\n",
              "ID                  0         0.0"
            ]
          },
          "metadata": {
            "tags": []
          },
          "execution_count": 25
        }
      ]
    },
    {
      "cell_type": "code",
      "metadata": {
        "colab": {
          "base_uri": "https://localhost:8080/",
          "height": 314
        },
        "id": "T4q6C6Xp_mYd",
        "outputId": "0a2b4383-c139-495b-cb43-d251f8fb2826"
      },
      "source": [
        "missing_value_of_data(test_data) #no missing data in test set"
      ],
      "execution_count": null,
      "outputs": [
        {
          "output_type": "execute_result",
          "data": {
            "text/html": [
              "<div>\n",
              "<style scoped>\n",
              "    .dataframe tbody tr th:only-of-type {\n",
              "        vertical-align: middle;\n",
              "    }\n",
              "\n",
              "    .dataframe tbody tr th {\n",
              "        vertical-align: top;\n",
              "    }\n",
              "\n",
              "    .dataframe thead th {\n",
              "        text-align: right;\n",
              "    }\n",
              "</style>\n",
              "<table border=\"1\" class=\"dataframe\">\n",
              "  <thead>\n",
              "    <tr style=\"text-align: right;\">\n",
              "      <th></th>\n",
              "      <th>Total</th>\n",
              "      <th>Percentage</th>\n",
              "    </tr>\n",
              "  </thead>\n",
              "  <tbody>\n",
              "    <tr>\n",
              "      <th>user</th>\n",
              "      <td>0</td>\n",
              "      <td>0.0</td>\n",
              "    </tr>\n",
              "    <tr>\n",
              "      <th>topic</th>\n",
              "      <td>0</td>\n",
              "      <td>0.0</td>\n",
              "    </tr>\n",
              "    <tr>\n",
              "      <th>top</th>\n",
              "      <td>0</td>\n",
              "      <td>0.0</td>\n",
              "    </tr>\n",
              "    <tr>\n",
              "      <th>score</th>\n",
              "      <td>0</td>\n",
              "      <td>0.0</td>\n",
              "    </tr>\n",
              "    <tr>\n",
              "      <th>parent_comment</th>\n",
              "      <td>0</td>\n",
              "      <td>0.0</td>\n",
              "    </tr>\n",
              "    <tr>\n",
              "      <th>down</th>\n",
              "      <td>0</td>\n",
              "      <td>0.0</td>\n",
              "    </tr>\n",
              "    <tr>\n",
              "      <th>date</th>\n",
              "      <td>0</td>\n",
              "      <td>0.0</td>\n",
              "    </tr>\n",
              "    <tr>\n",
              "      <th>comment</th>\n",
              "      <td>0</td>\n",
              "      <td>0.0</td>\n",
              "    </tr>\n",
              "    <tr>\n",
              "      <th>ID</th>\n",
              "      <td>0</td>\n",
              "      <td>0.0</td>\n",
              "    </tr>\n",
              "  </tbody>\n",
              "</table>\n",
              "</div>"
            ],
            "text/plain": [
              "                Total  Percentage\n",
              "user                0         0.0\n",
              "topic               0         0.0\n",
              "top                 0         0.0\n",
              "score               0         0.0\n",
              "parent_comment      0         0.0\n",
              "down                0         0.0\n",
              "date                0         0.0\n",
              "comment             0         0.0\n",
              "ID                  0         0.0"
            ]
          },
          "metadata": {
            "tags": []
          },
          "execution_count": 26
        }
      ]
    },
    {
      "cell_type": "code",
      "metadata": {
        "id": "XxP8wV4dAYwd"
      },
      "source": [
        "#function to check unique values in a column\n",
        "def unique_values_in_column(data,feature):\n",
        "    unique_val=pd.Series(data.loc[:,feature].unique())\n",
        "    return pd.concat([unique_val],axis=1,keys=['Unique Values'])"
      ],
      "execution_count": null,
      "outputs": []
    },
    {
      "cell_type": "code",
      "metadata": {
        "colab": {
          "base_uri": "https://localhost:8080/"
        },
        "id": "KY2aQa_7F4d6",
        "outputId": "baddba41-9b5e-4ea3-e652-edb0bc32fbd9"
      },
      "source": [
        "print(unique_values_in_column(train_data,'parent_comment'))  #checking the unique parents"
      ],
      "execution_count": null,
      "outputs": [
        {
          "output_type": "stream",
          "text": [
            "                                           Unique Values\n",
            "0      They should shut the fuck up and let the commu...\n",
            "1      You need evidence to kill people? I thought we...\n",
            "2                        2014 BMW S1000R: Official Promo\n",
            "3      Not really that memorable lol if you want memo...\n",
            "4                          James Neal hit on Zach Parise\n",
            "...                                                  ...\n",
            "14966  There's two things you don't do in Florida. - ...\n",
            "14967  Sounds like a pretty good overall summary of o...\n",
            "14968  I know the type you speak of. The \"die cis scu...\n",
            "14969  That there's A hidden cure for cancer but phar...\n",
            "14970  Windows 8(x) had more polish on launch than 10...\n",
            "\n",
            "[14971 rows x 1 columns]\n"
          ],
          "name": "stdout"
        }
      ]
    },
    {
      "cell_type": "code",
      "metadata": {
        "colab": {
          "base_uri": "https://localhost:8080/"
        },
        "id": "tLPG7CTTKjum",
        "outputId": "a81caa6d-215b-44ef-d96b-735e0bf4ae9f"
      },
      "source": [
        "print(unique_values_in_column(train_data,'user'))  #checking the unique users"
      ],
      "execution_count": null,
      "outputs": [
        {
          "output_type": "stream",
          "text": [
            "        Unique Values\n",
            "0      Combat_Wombatz\n",
            "1            starkadd\n",
            "2             phybere\n",
            "3              m0xyMC\n",
            "4           Somuch101\n",
            "...               ...\n",
            "13989   BlackDragon09\n",
            "13990     shutupisaac\n",
            "13991           em483\n",
            "13992        OhHiGCHQ\n",
            "13993     thedonutman\n",
            "\n",
            "[13994 rows x 1 columns]\n"
          ],
          "name": "stdout"
        }
      ]
    },
    {
      "cell_type": "code",
      "metadata": {
        "id": "6bEHPL4UK8ZG"
      },
      "source": [
        "user_label=pd.crosstab(train_data.user, train_data.label).apply(lambda r: round(r/r.sum() * 100, 2),axis=1).reset_index()"
      ],
      "execution_count": null,
      "outputs": []
    },
    {
      "cell_type": "code",
      "metadata": {
        "colab": {
          "base_uri": "https://localhost:8080/",
          "height": 343
        },
        "id": "yyjllklSLfGW",
        "outputId": "813a25e0-02b7-4b72-e385-7cf34d0202c1"
      },
      "source": [
        "user_label.sort_values(by=1, ascending=False).head(10)  #checking to see if a particular user's comment is sarcastic or not"
      ],
      "execution_count": null,
      "outputs": [
        {
          "output_type": "execute_result",
          "data": {
            "text/html": [
              "<div>\n",
              "<style scoped>\n",
              "    .dataframe tbody tr th:only-of-type {\n",
              "        vertical-align: middle;\n",
              "    }\n",
              "\n",
              "    .dataframe tbody tr th {\n",
              "        vertical-align: top;\n",
              "    }\n",
              "\n",
              "    .dataframe thead th {\n",
              "        text-align: right;\n",
              "    }\n",
              "</style>\n",
              "<table border=\"1\" class=\"dataframe\">\n",
              "  <thead>\n",
              "    <tr style=\"text-align: right;\">\n",
              "      <th>label</th>\n",
              "      <th>user</th>\n",
              "      <th>0</th>\n",
              "      <th>1</th>\n",
              "    </tr>\n",
              "  </thead>\n",
              "  <tbody>\n",
              "    <tr>\n",
              "      <th>6997</th>\n",
              "      <td>This_isR2Me</td>\n",
              "      <td>0.0</td>\n",
              "      <td>100.0</td>\n",
              "    </tr>\n",
              "    <tr>\n",
              "      <th>11101</th>\n",
              "      <td>mebob85</td>\n",
              "      <td>0.0</td>\n",
              "      <td>100.0</td>\n",
              "    </tr>\n",
              "    <tr>\n",
              "      <th>5825</th>\n",
              "      <td>SH4RPSH00T3R</td>\n",
              "      <td>0.0</td>\n",
              "      <td>100.0</td>\n",
              "    </tr>\n",
              "    <tr>\n",
              "      <th>5823</th>\n",
              "      <td>SEND_DICK_PIC</td>\n",
              "      <td>0.0</td>\n",
              "      <td>100.0</td>\n",
              "    </tr>\n",
              "    <tr>\n",
              "      <th>5821</th>\n",
              "      <td>SCRIZZLEnetwork</td>\n",
              "      <td>0.0</td>\n",
              "      <td>100.0</td>\n",
              "    </tr>\n",
              "    <tr>\n",
              "      <th>5820</th>\n",
              "      <td>SCREAMBLOODYGORE</td>\n",
              "      <td>0.0</td>\n",
              "      <td>100.0</td>\n",
              "    </tr>\n",
              "    <tr>\n",
              "      <th>11106</th>\n",
              "      <td>meddlingbarista</td>\n",
              "      <td>0.0</td>\n",
              "      <td>100.0</td>\n",
              "    </tr>\n",
              "    <tr>\n",
              "      <th>5817</th>\n",
              "      <td>SAGNUTZ</td>\n",
              "      <td>0.0</td>\n",
              "      <td>100.0</td>\n",
              "    </tr>\n",
              "    <tr>\n",
              "      <th>11108</th>\n",
              "      <td>mediocre_sophist</td>\n",
              "      <td>0.0</td>\n",
              "      <td>100.0</td>\n",
              "    </tr>\n",
              "    <tr>\n",
              "      <th>5815</th>\n",
              "      <td>SABIIIN</td>\n",
              "      <td>0.0</td>\n",
              "      <td>100.0</td>\n",
              "    </tr>\n",
              "  </tbody>\n",
              "</table>\n",
              "</div>"
            ],
            "text/plain": [
              "label              user    0      1\n",
              "6997        This_isR2Me  0.0  100.0\n",
              "11101           mebob85  0.0  100.0\n",
              "5825       SH4RPSH00T3R  0.0  100.0\n",
              "5823      SEND_DICK_PIC  0.0  100.0\n",
              "5821    SCRIZZLEnetwork  0.0  100.0\n",
              "5820   SCREAMBLOODYGORE  0.0  100.0\n",
              "11106   meddlingbarista  0.0  100.0\n",
              "5817            SAGNUTZ  0.0  100.0\n",
              "11108  mediocre_sophist  0.0  100.0\n",
              "5815            SABIIIN  0.0  100.0"
            ]
          },
          "metadata": {
            "tags": []
          },
          "execution_count": 75
        }
      ]
    },
    {
      "cell_type": "code",
      "metadata": {
        "colab": {
          "base_uri": "https://localhost:8080/"
        },
        "id": "l6QDzZNSL3oH",
        "outputId": "0fc85178-5616-4b81-aa70-6dd240e1cb70"
      },
      "source": [
        "print(unique_values_in_column(train_data,'topic')) #checking the unique topics\n"
      ],
      "execution_count": null,
      "outputs": [
        {
          "output_type": "stream",
          "text": [
            "         Unique Values\n",
            "0          starcitizen\n",
            "1     EnoughCommieSpam\n",
            "2          motorcycles\n",
            "3           hcfactions\n",
            "4               hockey\n",
            "...                ...\n",
            "2267           iOSBeta\n",
            "2268        indieheads\n",
            "2269  askashittydoctor\n",
            "2270       lyftdrivers\n",
            "2271       FNaFAnarchy\n",
            "\n",
            "[2272 rows x 1 columns]\n"
          ],
          "name": "stdout"
        }
      ]
    },
    {
      "cell_type": "code",
      "metadata": {
        "colab": {
          "base_uri": "https://localhost:8080/"
        },
        "id": "OiMHGyCuAaTT",
        "outputId": "55b5cd39-28f7-4920-99ef-440d63aa97c7"
      },
      "source": [
        "print(unique_values_in_column(train_data,'down')) #checking the unique downs\n"
      ],
      "execution_count": null,
      "outputs": [
        {
          "output_type": "stream",
          "text": [
            "   Unique Values\n",
            "0              0\n",
            "1             -1\n"
          ],
          "name": "stdout"
        }
      ]
    },
    {
      "cell_type": "code",
      "metadata": {
        "colab": {
          "base_uri": "https://localhost:8080/"
        },
        "id": "Ka-Pt3ecAdKk",
        "outputId": "ac5723c5-47db-4ea1-bcd5-b438de33f475"
      },
      "source": [
        "print(unique_values_in_column(train_data,'score')) #checking the unique scores"
      ],
      "execution_count": null,
      "outputs": [
        {
          "output_type": "stream",
          "text": [
            "     Unique Values\n",
            "0                2\n",
            "1                6\n",
            "2                3\n",
            "3               -5\n",
            "4                8\n",
            "..             ...\n",
            "236            162\n",
            "237            128\n",
            "238            255\n",
            "239            -22\n",
            "240            -53\n",
            "\n",
            "[241 rows x 1 columns]\n"
          ],
          "name": "stdout"
        }
      ]
    },
    {
      "cell_type": "code",
      "metadata": {
        "colab": {
          "base_uri": "https://localhost:8080/"
        },
        "id": "doXpB-8qA-GJ",
        "outputId": "fa0f41a0-a697-4722-dcf1-1fcc4fc3d758"
      },
      "source": [
        "print(unique_values_in_column(train_data,'top')) #checking the unique top"
      ],
      "execution_count": null,
      "outputs": [
        {
          "output_type": "stream",
          "text": [
            "     Unique Values\n",
            "0                2\n",
            "1               -1\n",
            "2                3\n",
            "3               -5\n",
            "4                8\n",
            "..             ...\n",
            "212            153\n",
            "213            162\n",
            "214            128\n",
            "215            255\n",
            "216            -22\n",
            "\n",
            "[217 rows x 1 columns]\n"
          ],
          "name": "stdout"
        }
      ]
    },
    {
      "cell_type": "code",
      "metadata": {
        "colab": {
          "base_uri": "https://localhost:8080/",
          "height": 284
        },
        "id": "ef_0rBgdBFhn",
        "outputId": "5e3d8a33-facc-44ba-d351-4bc185d6bff9"
      },
      "source": [
        "#basic statistics of the dataset\n",
        "train_data.describe()"
      ],
      "execution_count": null,
      "outputs": [
        {
          "output_type": "execute_result",
          "data": {
            "text/html": [
              "<div>\n",
              "<style scoped>\n",
              "    .dataframe tbody tr th:only-of-type {\n",
              "        vertical-align: middle;\n",
              "    }\n",
              "\n",
              "    .dataframe tbody tr th {\n",
              "        vertical-align: top;\n",
              "    }\n",
              "\n",
              "    .dataframe thead th {\n",
              "        text-align: right;\n",
              "    }\n",
              "</style>\n",
              "<table border=\"1\" class=\"dataframe\">\n",
              "  <thead>\n",
              "    <tr style=\"text-align: right;\">\n",
              "      <th></th>\n",
              "      <th>down</th>\n",
              "      <th>score</th>\n",
              "      <th>top</th>\n",
              "      <th>label</th>\n",
              "    </tr>\n",
              "  </thead>\n",
              "  <tbody>\n",
              "    <tr>\n",
              "      <th>count</th>\n",
              "      <td>15000.000000</td>\n",
              "      <td>15000.000000</td>\n",
              "      <td>15000.000000</td>\n",
              "      <td>15000.000000</td>\n",
              "    </tr>\n",
              "    <tr>\n",
              "      <th>mean</th>\n",
              "      <td>-0.145333</td>\n",
              "      <td>7.194667</td>\n",
              "      <td>5.457600</td>\n",
              "      <td>0.501800</td>\n",
              "    </tr>\n",
              "    <tr>\n",
              "      <th>std</th>\n",
              "      <td>0.352448</td>\n",
              "      <td>46.586034</td>\n",
              "      <td>32.236574</td>\n",
              "      <td>0.500013</td>\n",
              "    </tr>\n",
              "    <tr>\n",
              "      <th>min</th>\n",
              "      <td>-1.000000</td>\n",
              "      <td>-111.000000</td>\n",
              "      <td>-111.000000</td>\n",
              "      <td>0.000000</td>\n",
              "    </tr>\n",
              "    <tr>\n",
              "      <th>25%</th>\n",
              "      <td>0.000000</td>\n",
              "      <td>1.000000</td>\n",
              "      <td>0.000000</td>\n",
              "      <td>0.000000</td>\n",
              "    </tr>\n",
              "    <tr>\n",
              "      <th>50%</th>\n",
              "      <td>0.000000</td>\n",
              "      <td>2.000000</td>\n",
              "      <td>1.000000</td>\n",
              "      <td>1.000000</td>\n",
              "    </tr>\n",
              "    <tr>\n",
              "      <th>75%</th>\n",
              "      <td>0.000000</td>\n",
              "      <td>4.000000</td>\n",
              "      <td>3.000000</td>\n",
              "      <td>1.000000</td>\n",
              "    </tr>\n",
              "    <tr>\n",
              "      <th>max</th>\n",
              "      <td>0.000000</td>\n",
              "      <td>2993.000000</td>\n",
              "      <td>1340.000000</td>\n",
              "      <td>1.000000</td>\n",
              "    </tr>\n",
              "  </tbody>\n",
              "</table>\n",
              "</div>"
            ],
            "text/plain": [
              "               down         score           top         label\n",
              "count  15000.000000  15000.000000  15000.000000  15000.000000\n",
              "mean      -0.145333      7.194667      5.457600      0.501800\n",
              "std        0.352448     46.586034     32.236574      0.500013\n",
              "min       -1.000000   -111.000000   -111.000000      0.000000\n",
              "25%        0.000000      1.000000      0.000000      0.000000\n",
              "50%        0.000000      2.000000      1.000000      1.000000\n",
              "75%        0.000000      4.000000      3.000000      1.000000\n",
              "max        0.000000   2993.000000   1340.000000      1.000000"
            ]
          },
          "metadata": {
            "tags": []
          },
          "execution_count": 33
        }
      ]
    },
    {
      "cell_type": "code",
      "metadata": {
        "id": "miCpQBexI20z"
      },
      "source": [
        "#Converting data column as date type\n",
        "\n",
        "train_data['date']=pd.to_datetime(train_data['date'])\n",
        "test_data['date']=pd.to_datetime(test_data['date'])"
      ],
      "execution_count": null,
      "outputs": []
    },
    {
      "cell_type": "code",
      "metadata": {
        "colab": {
          "base_uri": "https://localhost:8080/",
          "height": 282
        },
        "id": "TO5tRQuFJJC7",
        "outputId": "941594b5-bd08-4c6c-ccd7-5483eea5d8c5"
      },
      "source": [
        "train_data['date'].plot() #train dates overlap with test dates"
      ],
      "execution_count": null,
      "outputs": [
        {
          "output_type": "execute_result",
          "data": {
            "text/plain": [
              "<matplotlib.axes._subplots.AxesSubplot at 0x7f7de499b910>"
            ]
          },
          "metadata": {
            "tags": []
          },
          "execution_count": 59
        },
        {
          "output_type": "display_data",
          "data": {
            "image/png": "[encoded data removed]",
            "text/plain": [
              "<Figure size 432x288 with 1 Axes>"
            ]
          },
          "metadata": {
            "tags": [],
            "needs_background": "light"
          }
        }
      ]
    },
    {
      "cell_type": "code",
      "metadata": {
        "colab": {
          "base_uri": "https://localhost:8080/",
          "height": 282
        },
        "id": "MtT556yJJc0v",
        "outputId": "6a8a5998-1e7c-401f-fadc-64b33cc23a9b"
      },
      "source": [
        "train_data['date'].plot() #train dates overlap with test dates"
      ],
      "execution_count": null,
      "outputs": [
        {
          "output_type": "execute_result",
          "data": {
            "text/plain": [
              "<matplotlib.axes._subplots.AxesSubplot at 0x7f7de4e43110>"
            ]
          },
          "metadata": {
            "tags": []
          },
          "execution_count": 61
        },
        {
          "output_type": "display_data",
          "data": {
            "image/png": "[encoded data removed]",
            "text/plain": [
              "<Figure size 432x288 with 1 Axes>"
            ]
          },
          "metadata": {
            "tags": [],
            "needs_background": "light"
          }
        }
      ]
    },
    {
      "cell_type": "code",
      "metadata": {
        "colab": {
          "base_uri": "https://localhost:8080/",
          "height": 282
        },
        "id": "RNJQ6k1xCZvW",
        "outputId": "0ec71f7a-18b5-4979-a7fc-9fc6e5e73fea"
      },
      "source": [
        "train_data.boxplot(column=['score']) # checking for outliers in score column"
      ],
      "execution_count": null,
      "outputs": [
        {
          "output_type": "execute_result",
          "data": {
            "text/plain": [
              "<matplotlib.axes._subplots.AxesSubplot at 0x7f7deff5ffd0>"
            ]
          },
          "metadata": {
            "tags": []
          },
          "execution_count": 34
        },
        {
          "output_type": "display_data",
          "data": {
            "image/png": "[encoded data removed]",
            "text/plain": [
              "<Figure size 432x288 with 1 Axes>"
            ]
          },
          "metadata": {
            "tags": [],
            "needs_background": "light"
          }
        }
      ]
    },
    {
      "cell_type": "code",
      "metadata": {
        "colab": {
          "base_uri": "https://localhost:8080/",
          "height": 285
        },
        "id": "3AjLK1yaCljO",
        "outputId": "869b83b2-68df-43f1-b285-81bf8e4fac8c"
      },
      "source": [
        "train_data.boxplot(column=['top']) # checking for outliers in top column"
      ],
      "execution_count": null,
      "outputs": [
        {
          "output_type": "execute_result",
          "data": {
            "text/plain": [
              "<matplotlib.axes._subplots.AxesSubplot at 0x7f7defc09890>"
            ]
          },
          "metadata": {
            "tags": []
          },
          "execution_count": 35
        },
        {
          "output_type": "display_data",
          "data": {
            "image/png": "[encoded data removed]",
            "text/plain": [
              "<Figure size 432x288 with 1 Axes>"
            ]
          },
          "metadata": {
            "tags": [],
            "needs_background": "light"
          }
        }
      ]
    },
    {
      "cell_type": "code",
      "metadata": {
        "colab": {
          "base_uri": "https://localhost:8080/",
          "height": 312
        },
        "id": "meL4LVARYsd6",
        "outputId": "c73a371e-01bd-45d6-e68c-2b87635ef39f"
      },
      "source": [
        "plt.title('Outliers- score vs top')\n",
        "plt.xlabel('score')\n",
        "plt.ylabel('top')\n",
        "plt.scatter(train_data['score'],train_data['top'], color= 'red')"
      ],
      "execution_count": null,
      "outputs": [
        {
          "output_type": "execute_result",
          "data": {
            "text/plain": [
              "<matplotlib.collections.PathCollection at 0x7f7de573a350>"
            ]
          },
          "metadata": {
            "tags": []
          },
          "execution_count": 108
        },
        {
          "output_type": "display_data",
          "data": {
            "image/png": "[encoded data removed]",
            "text/plain": [
              "<Figure size 432x288 with 1 Axes>"
            ]
          },
          "metadata": {
            "tags": []
          }
        }
      ]
    },
    {
      "cell_type": "code",
      "metadata": {
        "id": "e4iA_fKhZAhP"
      },
      "source": [
        "# Not removing any outliers as the supervised learning approach used is not much affected by them"
      ],
      "execution_count": null,
      "outputs": []
    },
    {
      "cell_type": "code",
      "metadata": {
        "colab": {
          "base_uri": "https://localhost:8080/",
          "height": 286
        },
        "id": "0wGaUF4ZJ-v7",
        "outputId": "3aa594bd-3f14-4df4-a69c-169d13270993"
      },
      "source": [
        "#Check multicollinearity within the train dataset, which does not seem to be the probelm\n",
        "\n",
        "corr = train_data.corr(method = 'spearman')\n",
        "sns.heatmap(corr,annot = True)"
      ],
      "execution_count": null,
      "outputs": [
        {
          "output_type": "execute_result",
          "data": {
            "text/plain": [
              "<matplotlib.axes._subplots.AxesSubplot at 0x7f7de5a7b2d0>"
            ]
          },
          "metadata": {
            "tags": []
          },
          "execution_count": 63
        },
        {
          "output_type": "display_data",
          "data": {
            "image/png": "[encoded data removed]",
            "text/plain": [
              "<Figure size 432x288 with 2 Axes>"
            ]
          },
          "metadata": {
            "tags": []
          }
        }
      ]
    },
    {
      "cell_type": "code",
      "metadata": {
        "id": "H5CXd8wGC8HX"
      },
      "source": [
        "train_data['text_combined'] =  train_data['comment'] + ' ' + train_data['parent_comment'] #combining both comments"
      ],
      "execution_count": null,
      "outputs": []
    },
    {
      "cell_type": "code",
      "metadata": {
        "id": "FIdJcD95D5Ok"
      },
      "source": [
        "test_data['text_combined'] =  test_data['comment'] + ' ' + test_data['parent_comment'] #combining both comments"
      ],
      "execution_count": null,
      "outputs": []
    },
    {
      "cell_type": "markdown",
      "metadata": {
        "id": "hYxWAw_hZIiF"
      },
      "source": [
        "Preprocessing the data"
      ]
    },
    {
      "cell_type": "code",
      "metadata": {
        "colab": {
          "base_uri": "https://localhost:8080/"
        },
        "id": "hNpA0fkQDFBE",
        "outputId": "0c969187-d6e9-4410-8347-deb47b7f9b49"
      },
      "source": [
        "#Preprocessing text data with nltk\n",
        "#Remove punctuation\n",
        "import string\n",
        "def remove_punct(text):\n",
        "  text_nopunct = \"\".join([char.lower() for char in text if char not in string.punctuation]) #it was discard all punctuations \n",
        "  return text_nopunct.strip()\n",
        "\n",
        "#Tokenization\n",
        "def tokenize(text):\n",
        "  tokens=re.split('\\W+',text)\n",
        "  return tokens\n",
        "\n",
        "nltk.download('stopwords')\n",
        "stop_words = stopwords.words('english')\n",
        "#Remove stopwords\n",
        "def remove_stopwords(tokenized_list):\n",
        "  text = [word for word in tokenized_list if word not in stop_words]\n",
        "  return text\n",
        "\n",
        "#Preprocessing Data: Lemmatizing\n",
        "nltk.download('wordnet')\n",
        "wn = nltk.WordNetLemmatizer()\n",
        "def lemmatizing(tokenized_text):\n",
        "    text = [wn.lemmatize(word) for word in tokenized_text]\n",
        "    return \" \".join(text)"
      ],
      "execution_count": null,
      "outputs": [
        {
          "output_type": "stream",
          "text": [
            "[nltk_data] Downloading package stopwords to /root/nltk_data...\n",
            "[nltk_data]   Package stopwords is already up-to-date!\n",
            "[nltk_data] Downloading package wordnet to /root/nltk_data...\n",
            "[nltk_data]   Package wordnet is already up-to-date!\n"
          ],
          "name": "stdout"
        }
      ]
    },
    {
      "cell_type": "code",
      "metadata": {
        "id": "DwU9d8wCDOxN"
      },
      "source": [
        "train_data['text_wo_punct']=train_data['text_combined'].apply(lambda x: remove_punct(x))\n",
        "train_data['tokenized']=train_data['text_wo_punct'].apply(lambda x: tokenize(x))\n",
        "train_data['tokenized_removedsw']=train_data['tokenized'].apply(lambda x: remove_stopwords(x))\n",
        "train_data['lemmatised']= train_data['tokenized_removedsw'].apply(lambda x: lemmatizing(x))"
      ],
      "execution_count": null,
      "outputs": []
    },
    {
      "cell_type": "code",
      "metadata": {
        "id": "B-bMbag7H134"
      },
      "source": [
        "test_data['text_wo_punct']=test_data['text_combined'].apply(lambda x: remove_punct(x))\n",
        "test_data['tokenized']=test_data['text_wo_punct'].apply(lambda x: tokenize(x))\n",
        "test_data['tokenized_removedsw']=test_data['tokenized'].apply(lambda x: remove_stopwords(x))\n",
        "test_data['lemmatised']= test_data['tokenized_removedsw'].apply(lambda x: lemmatizing(x))"
      ],
      "execution_count": null,
      "outputs": []
    },
    {
      "cell_type": "code",
      "metadata": {
        "colab": {
          "base_uri": "https://localhost:8080/"
        },
        "id": "5kX1awt_Debu",
        "outputId": "bba80c41-cb57-4803-f8d4-24c7dd30207a"
      },
      "source": [
        "#random check to see if preprocessing worked on train data\n",
        "\n",
        "print(train_data['text_combined'][0])\n",
        "print(train_data['text_wo_punct'][0])\n",
        "print(train_data['tokenized'][0])\n",
        "print(train_data['tokenized_removedsw'][0])\n",
        "print(train_data['lemmatised'][0])"
      ],
      "execution_count": null,
      "outputs": [
        {
          "output_type": "stream",
          "text": [
            "Well, let's be honest here, they don't actually seem to do much moderating, so they have to spend their time doing *something*.\n",
            "well lets be honest here they dont actually seem to do much moderating so they have to spend their time doing something\n",
            "['well', 'lets', 'be', 'honest', 'here', 'they', 'dont', 'actually', 'seem', 'to', 'do', 'much', 'moderating', 'so', 'they', 'have', 'to', 'spend', 'their', 'time', 'doing', 'something']\n",
            "['well', 'lets', 'honest', 'dont', 'actually', 'seem', 'much', 'moderating', 'spend', 'time', 'something']\n",
            "well let honest dont actually seem much moderating spend time something\n"
          ],
          "name": "stdout"
        }
      ]
    },
    {
      "cell_type": "code",
      "metadata": {
        "colab": {
          "base_uri": "https://localhost:8080/"
        },
        "id": "LNtFG6ZfKObW",
        "outputId": "6b79fec2-c360-430c-d00f-923473339b90"
      },
      "source": [
        "#random check to see if preprocessing worked on test data\n",
        "print(test_data['text_combined'][0])\n",
        "print(test_data['text_wo_punct'][0])\n",
        "print(test_data['tokenized'][0])\n",
        "print(test_data['tokenized_removedsw'][0])\n",
        "print(test_data['lemmatised'][0])"
      ],
      "execution_count": null,
      "outputs": [
        {
          "output_type": "stream",
          "text": [
            "Meanwhile if I pick my boxer up to move him to other side of me on the couch, he flips and twists like I'm using a cattle prod on his nut-sack. Part of the Family Fun\n",
            "meanwhile if i pick my boxer up to move him to other side of me on the couch he flips and twists like im using a cattle prod on his nutsack part of the family fun\n",
            "['meanwhile', 'if', 'i', 'pick', 'my', 'boxer', 'up', 'to', 'move', 'him', 'to', 'other', 'side', 'of', 'me', 'on', 'the', 'couch', 'he', 'flips', 'and', 'twists', 'like', 'im', 'using', 'a', 'cattle', 'prod', 'on', 'his', 'nutsack', 'part', 'of', 'the', 'family', 'fun']\n",
            "['meanwhile', 'pick', 'boxer', 'move', 'side', 'couch', 'flips', 'twists', 'like', 'im', 'using', 'cattle', 'prod', 'nutsack', 'part', 'family', 'fun']\n",
            "meanwhile pick boxer move side couch flip twist like im using cattle prod nutsack part family fun\n"
          ],
          "name": "stdout"
        }
      ]
    },
    {
      "cell_type": "code",
      "metadata": {
        "id": "bID2St3nVDsT"
      },
      "source": [
        "#getting list of unique topics from train and test dataset\n",
        "\n",
        "train_topic_uni=list(train_data['topic'].unique())\n",
        "test_topic_uni = list(test_data['topic'].unique())\n",
        "\n",
        "#finding topics that are not in train but in test\n",
        "only_test = list(np.setdiff1d(test_topic_uni,train_topic_uni))\n",
        "#and vice-versa\n",
        "only_train = list(np.setdiff1d(train_topic_uni,test_topic_uni))\n",
        "\n",
        "\n"
      ],
      "execution_count": null,
      "outputs": []
    },
    {
      "cell_type": "code",
      "metadata": {
        "id": "GYa3pZUzFRn7"
      },
      "source": [
        "#taking non-text features of down, top and score\n",
        "\n",
        "add_feat_train = train_data[['down','top','score']]\n",
        "\n",
        "#one hot encoding of topics in train set and adding additional topics that are in test set\n",
        "df_cat_var_train = pd.get_dummies(train_data['topic'], drop_first = True)\n",
        "for i in only_test:\n",
        "  df_cat_var_train[i]=0\n",
        "\n",
        "out_feat_train=pd.concat([add_feat_train,df_cat_var_train], axis=1)\n",
        "\n"
      ],
      "execution_count": null,
      "outputs": []
    },
    {
      "cell_type": "code",
      "metadata": {
        "id": "9-OdBJBFa8tn"
      },
      "source": [
        "#sort so that the order of topics in both the dataset is fixed\n",
        "lst_train= out_feat_train.columns.tolist()\n",
        "lst_train.sort()\n",
        "lst_train\n",
        "\n",
        "out_feat_train = out_feat_train.reindex(columns=lst_train)"
      ],
      "execution_count": null,
      "outputs": []
    },
    {
      "cell_type": "code",
      "metadata": {
        "colab": {
          "base_uri": "https://localhost:8080/"
        },
        "id": "-Or-j64baVJ-",
        "outputId": "e35ad84a-637d-4b85-be08-3cf663081243"
      },
      "source": [
        "#taking non-text features of down, top and score\n",
        "add_feat_test = test_data[['down','top','score']]\n",
        "#one hot encoding of topics in test set and adding additional topics that are in train set\n",
        "df_cat_var_test = pd.get_dummies(test_data['topic'], drop_first = True)\n",
        "for i in only_train:\n",
        "  df_cat_var_test[i]=0\n",
        "out_feat_test=pd.concat([add_feat_test,df_cat_var_test], axis=1)\n",
        "\n",
        "out_feat_test.shape"
      ],
      "execution_count": null,
      "outputs": [
        {
          "output_type": "execute_result",
          "data": {
            "text/plain": [
              "(8000, 2798)"
            ]
          },
          "metadata": {
            "tags": []
          },
          "execution_count": 120
        }
      ]
    },
    {
      "cell_type": "code",
      "metadata": {
        "id": "-LL69nhoa40t"
      },
      "source": [
        "#sort so that the order of topics in both the dataset is fixed\n",
        "lst_test= out_feat_test.columns.tolist()\n",
        "lst_test.sort()\n",
        "lst_test\n",
        "\n",
        "out_feat_test = out_feat_test.reindex(columns=lst_test)"
      ],
      "execution_count": null,
      "outputs": []
    },
    {
      "cell_type": "code",
      "metadata": {
        "id": "avjM_sFOQox3"
      },
      "source": [
        "from scipy.sparse import csr_matrix, hstack\n",
        "#converting into sparse matrix\n",
        "\n",
        "train_feat_sp=csr_matrix(out_feat_train.values)\n",
        "test_feat_sp=csr_matrix(out_feat_test.values)\n",
        "\n"
      ],
      "execution_count": null,
      "outputs": []
    },
    {
      "cell_type": "markdown",
      "metadata": {
        "id": "SC028E1rZb91"
      },
      "source": [
        "Machine Learning Model\n"
      ]
    },
    {
      "cell_type": "code",
      "metadata": {
        "id": "bhLEgqgfHGUQ"
      },
      "source": [
        "#seperate train and test datasets are given\n",
        "#using TF-IDF to vectorise our text data\n",
        "from sklearn.feature_extraction.text import TfidfVectorizer\n",
        "def tfidf(data):\n",
        "    tfidf_vectorizer = TfidfVectorizer()\n",
        "\n",
        "    train = tfidf_vectorizer.fit_transform(data)\n",
        "\n",
        "    return train, tfidf_vectorizer\n",
        "\n",
        "X_train = train_data[\"text_combined\"].tolist()\n",
        "X_test = test_data[\"text_combined\"].tolist()\n",
        "y_train = train_data[\"label\"].tolist()\n",
        "#y_test = test_data[\"overall\"].tolist() #>>>>>>>>> outcome labels not given in the test dataset\n",
        "\n",
        "\n",
        "X_train_tfidf, tfidf_vectorizer = tfidf(X_train) #vectorized the train text\n",
        "X_test_tfidf = tfidf_vectorizer.transform(X_test) #vectorized the test text"
      ],
      "execution_count": null,
      "outputs": []
    },
    {
      "cell_type": "code",
      "metadata": {
        "colab": {
          "base_uri": "https://localhost:8080/"
        },
        "id": "tp8Qz6k4RdNl",
        "outputId": "84116a1f-2d4e-4979-9f0a-2993c0ffda8a"
      },
      "source": [
        "#combining text and non-text data\n",
        "tot_train=hstack([X_train_tfidf,train_feat_sp])\n",
        "tot_test=hstack([X_test_tfidf,test_feat_sp])\n",
        "print(tot_train.shape, tot_test.shape)"
      ],
      "execution_count": null,
      "outputs": [
        {
          "output_type": "stream",
          "text": [
            "(15000, 34983) (8000, 34983)\n"
          ],
          "name": "stdout"
        }
      ]
    },
    {
      "cell_type": "code",
      "metadata": {
        "id": "NYEDapY7Gy4u"
      },
      "source": [
        "#running a grid search for hyperparameter for random forest machine learning model\n",
        "\n",
        "from sklearn.model_selection import GridSearchCV\n",
        "rf = RandomForestClassifier()\n",
        "param = {'max_depth': [90,120,150,200],\n",
        "         'max_features': ['log2','sqrt']}\n",
        "\n",
        "gs = GridSearchCV(rf, param, cv=3, n_jobs=-1)  #n_jobs=-1 for paralelizing search\n",
        "gs_fit = gs.fit(tot_train,y_train)\n",
        "grid_result=pd.DataFrame(gs_fit.cv_results_).sort_values(\"mean_test_score\", ascending=False).head()"
      ],
      "execution_count": null,
      "outputs": []
    },
    {
      "cell_type": "code",
      "metadata": {
        "colab": {
          "base_uri": "https://localhost:8080/"
        },
        "id": "dEfK4yWjMerL",
        "outputId": "fba45e80-8272-4524-8cef-2071894852d0"
      },
      "source": [
        "#top result of grid search\n",
        "grid_result.params.iloc[0]"
      ],
      "execution_count": null,
      "outputs": [
        {
          "output_type": "execute_result",
          "data": {
            "text/plain": [
              "{'max_depth': 150, 'max_features': 'sqrt'}"
            ]
          },
          "metadata": {
            "tags": []
          },
          "execution_count": 135
        }
      ]
    },
    {
      "cell_type": "code",
      "metadata": {
        "id": "1rSxyQ_KSEpO"
      },
      "source": [
        "#Random Forest Classifier\n",
        "model_rf = RandomForestClassifier(n_estimators=200,max_depth=150,max_features='sqrt',random_state=123)\n",
        "\n",
        "#define the model\n",
        "model_rf.fit(tot_train,y_train)\n",
        "\n",
        "#test the model on train data\n",
        "y_predicted_counts = model_rf.predict(tot_test)"
      ],
      "execution_count": null,
      "outputs": []
    },
    {
      "cell_type": "code",
      "metadata": {
        "id": "r2eG1jFwSjeg"
      },
      "source": [
        "#build the final submission dataframe that needs to be exported\n",
        "submit = pd.DataFrame(list(zip(test_data['ID'],y_predicted_counts)),columns=[\"ID\",\"label\"])"
      ],
      "execution_count": null,
      "outputs": []
    },
    {
      "cell_type": "code",
      "metadata": {
        "colab": {
          "base_uri": "https://localhost:8080/",
          "height": 195
        },
        "id": "eJ4_A1ANcEqL",
        "outputId": "25ed92ef-de58-4def-9bfe-562ca5285989"
      },
      "source": [
        "submit.head()"
      ],
      "execution_count": null,
      "outputs": [
        {
          "output_type": "execute_result",
          "data": {
            "text/html": [
              "<div>\n",
              "<style scoped>\n",
              "    .dataframe tbody tr th:only-of-type {\n",
              "        vertical-align: middle;\n",
              "    }\n",
              "\n",
              "    .dataframe tbody tr th {\n",
              "        vertical-align: top;\n",
              "    }\n",
              "\n",
              "    .dataframe thead th {\n",
              "        text-align: right;\n",
              "    }\n",
              "</style>\n",
              "<table border=\"1\" class=\"dataframe\">\n",
              "  <thead>\n",
              "    <tr style=\"text-align: right;\">\n",
              "      <th></th>\n",
              "      <th>ID</th>\n",
              "      <th>label</th>\n",
              "    </tr>\n",
              "  </thead>\n",
              "  <tbody>\n",
              "    <tr>\n",
              "      <th>0</th>\n",
              "      <td>uid_764784</td>\n",
              "      <td>0</td>\n",
              "    </tr>\n",
              "    <tr>\n",
              "      <th>1</th>\n",
              "      <td>uid_67552</td>\n",
              "      <td>0</td>\n",
              "    </tr>\n",
              "    <tr>\n",
              "      <th>2</th>\n",
              "      <td>uid_240490</td>\n",
              "      <td>0</td>\n",
              "    </tr>\n",
              "    <tr>\n",
              "      <th>3</th>\n",
              "      <td>uid_56568</td>\n",
              "      <td>1</td>\n",
              "    </tr>\n",
              "    <tr>\n",
              "      <th>4</th>\n",
              "      <td>uid_875860</td>\n",
              "      <td>1</td>\n",
              "    </tr>\n",
              "  </tbody>\n",
              "</table>\n",
              "</div>"
            ],
            "text/plain": [
              "           ID  label\n",
              "0  uid_764784      0\n",
              "1   uid_67552      0\n",
              "2  uid_240490      0\n",
              "3   uid_56568      1\n",
              "4  uid_875860      1"
            ]
          },
          "metadata": {
            "tags": []
          },
          "execution_count": 138
        }
      ]
    },
    {
      "cell_type": "code",
      "metadata": {
        "id": "TNiehII0Slmj"
      },
      "source": [
        "#exporting final dataframe to be submitted\n",
        "submit.to_csv(\"sample_submissions.csv\", index=False)"
      ],
      "execution_count": null,
      "outputs": []
    }
  ]
}